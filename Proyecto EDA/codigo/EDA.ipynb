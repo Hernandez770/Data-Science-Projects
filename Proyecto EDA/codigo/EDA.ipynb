{
 "cells": [
  {
   "attachments": {},
   "cell_type": "markdown",
   "metadata": {},
   "source": [
    "# PROYECTO EDA\n",
    "# Situación económica del Estado español: Una perspectiva de deuda\n",
    "### ADRIAN GARCIA HERNANDEZ"
   ]
  },
  {
   "attachments": {},
   "cell_type": "markdown",
   "metadata": {},
   "source": [
    "EN ESTE JUPYTER NOTEBOOK SE ESPECIFICA EL PROCEDIMIENTO ADOPTADO PARA LA REALIZACIÓN DE ESTE PROYECTO DE ANÁLISIS DE DATOS"
   ]
  },
  {
   "attachments": {},
   "cell_type": "markdown",
   "metadata": {},
   "source": [
    "## ESQUEMA PASOS ANÁLISIS\n",
    "\n",
    "1. Seleccion de los datos de interes en la plataforma online\n",
    "2. Descarga de los datos en .xlsx\n",
    "3. Abrir el archivo en Excel y seleccionar únicamente la tabla con los datos de interés\n",
    "4. Abrir una hoja de cálculo nueva y pegar los valores\n",
    "5. Exportar el archivo a CSV con el nombre de la variable en estudio\n",
    "6. Crear un archivo de Jupyter Notebook nuevo con el nombre \"variable en estudio\" clean.ipynb\n",
    "7. Importar la librerias necesarias para importar los datos del CSV  a un dataframe\n",
    "8. Hacer toda la limpieza de datos necesaria (abajo se especifican los cambios más comunes)\n",
    "9. Una vez el dataframe queda limpio se exporta a un nuevo CSV (usando pandas) con el nombre: \"variable en estudio\"_clean.csv\n",
    "10. Crear un archivo de Jupyter Notebook nuevo con el nombre: Codigo \"variable en estudio\".ipynb\n",
    "11. Importar todas las librerias necesarias para la creación de los gráficos e importar el archivo CSV que contiene los datos limpios\n",
    "\n",
    "    Las librerias a importar son:\n",
    "    ```python\n",
    "    import matplotlib.pyplot as plt\n",
    "    import matplotlib.style as style\n",
    "    import matplotlib.ticker as ticker\n",
    "    import pandas as pd\n",
    "    ```\n",
    "13. En caso de que se requiera calcular la media de algunos valores concretos, hacerlo creando una nueva fila con los valores de la media para cada año\n",
    "12. Usar la plantilla de gráfico para plotear los resultados"
   ]
  },
  {
   "attachments": {},
   "cell_type": "markdown",
   "metadata": {},
   "source": [
    "Los datos usados para el análisis provienen en su mayoría del portal estadístico EUROSTAT. Esta plataforma ha sido de una gran ayuda a la hora de obtener los datos, ya que esta posibilita la selección de aquellos de nuestro interés, incluyendo el periodo, el tipo de unidad de medida de los valores, así como diferentes tipos de formato de presentación de los datos entre otros. Además, hace una previsualización de los datos seleccionados y te los muestra en diferentes gráficos y mapas. La descarga de los datos puede ser hecha en diferentes formatos como, por ejemplo: xlsx, SDMX-CSV o TSV.  \n",
    "\n",
    "No obstante, al descargar el fichero en cualquiera de los formatos disponibles, el archivo incluye información complementaria. Esta información es importante para la correcta compresión de los datos, pero dificulta la importación de estos a un dataset en Python. Por ello el procedimiento usado ha sido descargar el archivo en xlsx, abrirlo con Excel y crear una nueva hoja de cálculo donde pegar únicamente los datos de la tabla (esto ya supone una primera parte de limpieza de datos). Posteriormente exportar esta hoja de cálculo a un archivo CSV para poderlo importar con pandas en Python usando el Visual Studio Code.\n",
    "\n",
    "Una pequeña parte de los datos han sido obtenidos a través de la página web del Fondo Monetario Internacional, en esta el procedimiento ha sido muy similar al proceso anteriormente detallado sobre EUROSTAT. En este caso la descarga de los datos sólo se podía hacer en xlsx, por lo que se ha abierto en Excel y posteriormente han sido exportados a CSV.\n",
    "Por último, el resto de los datos han sido obtenidos a través de informes del Ministerio de Hacienda, todos ellos almacenados en documentos xlsx. El procedimiento ha sido idéntico al anteriormente descrito.\n",
    "\n",
    "En algunos pocos casos también se han modificado internamente los CSV siendo abiertos con un editor de texto, pero sólo para modificaciones muy puntuales.\n",
    "\n",
    "Una vez los datos han sido exportados usando la librería de pandas en Python dentro de un Jupiter Notebook usando Visual Studio Code, empieza la segunda parte de limpieza de los datos.\n",
    "\n",
    "En esta fase principalmente se han hecho estos cambios:\n",
    "\n",
    "- Cambiar comas por puntos\n",
    "    ```python\n",
    "    data = data.replace(',', '.', regex=True)\n",
    "    ```\n",
    "- Eliminar puntos que indican los miles\n",
    "    ```python\n",
    "    data = data.replace('.', '', regex=True)\n",
    "    ```\n",
    "- Sustitución de símbolos que implican falta de datos por NaN\n",
    "    ```python\n",
    "    data = data.replace('..', np.nan)\n",
    "    ```\n",
    "- Eliminación de ciertas filas por existencia de demasiados NaN\n",
    "    ```python\n",
    "    data=data.dropna(axis=0)\n",
    "    ```\n",
    "- Eliminación de decimales y/o redondear valores\n",
    "    ```python\n",
    "    data = data.apply(lambda x: round(x, 2))\n",
    "\n",
    "    for col in data.columns:\n",
    "        data[col] = data[col].str.split(',', expand=True)[0]\n",
    "    ```\n",
    "- Conversión de los valores de tipo object a tipo int o float\n",
    "    ```python\n",
    "    data = data.astype(int)\n",
    "    ```\n",
    "- Ajustar la columna de la leyenda como índice\n",
    "    ```python\n",
    "    data = data.set_index(\"GDP current prices\")\n",
    "    ```\n",
    "- Ajustes de los nombres de los países\n",
    "    ```python\n",
    "    data = data.rename(index={\"Germany (until 1990 former territory of the FRG)\": \"Germany\"})\n",
    "    ```\n",
    "- Eliminación de múltiples columnas vacías\n",
    "    ```python\n",
    "    data=data.dropna(axis=1)\n",
    "    ```\n",
    "\n",
    "Debido a la naturaleza de los datos, principalmente por tratarse todos de tipo panel data (cada uno mide conceptos diferentes), no se han unificado en un único dataframe. Por cada dataset se ha creado un Jupyter Notebook con el procedimiento de limpieza de tal dataset y una vez acabada la limpieza se ha exportado a un archivo nuevo CSV con el dataset limpio.\n",
    "Posteriormente se ha creado otro archivo .ipynb para cada uno de los datasets que contiene la creación de los gráficos, así como los cálculos necesarios para, por ejemplo, calcular la media de los países mostrados en el gráfico. \n"
   ]
  },
  {
   "attachments": {},
   "cell_type": "markdown",
   "metadata": {},
   "source": [
    "## CONSISTENCIA Y FIABILIDAD"
   ]
  },
  {
   "attachments": {},
   "cell_type": "markdown",
   "metadata": {},
   "source": [
    "Durante todo este trabajo ha primado la búsqueda de la consistencia. Si han faltado algunos datos, estos **NO** se han añadido al dataset original con datos provenientes de otras fuentes. En el ámbito de la economía y las finanzas, existen muchos criterios diferentes para calcular los indicadores macroeconómicos, por tanto, los criterios para el cálculo de indicadores por parte de EUROSTAT no tienen por qué ser los mismos que los del FMI. Por esta razón se han obtenido la mayor cantidad de datos posible únicamente de EUROSTAT.\n",
    "\n",
    "Para la presentación de los resultados también ha primado la consistencia. Al principio se hicieron diferentes pruebas en búsqueda de un estilo de gráfico que fuera capaz de representar la mayor cantidad posible de variables (países) con la mayor claridad posible. Una vez creado el código base del gráfico, se ha utilizado para cada uno de los datasets, haciendo los ajustes necesarios para su correcto funcionamiento. Siguiendo las directrices para una buena consistencia y claridad, se han creado una paleta de colores fija con colores con bastante contraste. En todos los gráficos España está representada con un color rosa fucsia y, en el caso de haber una variable que describe una media, esta viene representada por el color negro. Con el resto de países se ha querido mantener el mismo color para cada uno de ellos. Por esta razón los países analizados en la mayor parte de los casos son siempre los mismos y se han ploteado en el gráfico siempre de manera ordenada. Únicamente existen dos gráficos (ambos tasa de desempleo) con un estilo muy similar pero no completamente igual debido a un problema a la hora de mostrar la leyenda del eje x.\n",
    "\n",
    "\n",
    "En un principio se planteó la posibilidad de crear mapas para mostrar los indicadores macroeconómicos para toda Europa. No obstante, finalmente esta idea se desechó por dos razones. En primer lugar, debido a los problemas encontrados a la hora de plotear el mapa (problemas con el PATH del Mac). En segundo lugar, por la pérdida de información que supone dibujar mapas que únicamente muestran los valores para un año en concreto sin poder ver la evolución, consecuentemente no pudiendo explicar las variaciones de este a lo largo de los años. "
   ]
  },
  {
   "attachments": {},
   "cell_type": "markdown",
   "metadata": {},
   "source": [
    "### LISTA DE PAÍSES DE EUROPA PARA USAR\n",
    "```python\n",
    "countries = ['Average','Spain', 'Germany', 'United Kingdom', 'France', 'Italy', 'Netherlands','Poland','Sweden']\n",
    "\n",
    "```"
   ]
  },
  {
   "attachments": {},
   "cell_type": "markdown",
   "metadata": {},
   "source": [
    "### LISTA DE PAÍSES DEL MUNDO PARA USAR\n",
    "```python\n",
    "countries = ['Average','Spain', 'Germany', 'United Kingdom', 'France', 'Italy', 'Netherlands', 'United States','China','Japan','India','Canada']\n",
    "\n",
    "```"
   ]
  },
  {
   "attachments": {},
   "cell_type": "markdown",
   "metadata": {},
   "source": [
    "### COLORES DE LAS LÍNEAS DEL GRÁFICO\n",
    "```python\n",
    "colors = [[0,0,0], [230/255,159/255,0], [86/255,180/255,233/255], [0,158/255,115/255], [213/255,94/255,0], [0,114/255,178/255], \n",
    "          [240/255,228/255,66/255], [180/255,130/255,70/255], [255/255,80/255,5/255], [110/255,190/255,60/255], \n",
    "            [200/255,100/255,200/255], [128/255,128/255,128/255], [0,255/255,128/255], [255/255,0,128/255], \n",
    "          [128/255,0,255/255], [255/255,128/255,0], [0,128/255,255/255], [128/255,255/255,0], [0,200/255,255/255]]\n",
    "```"
   ]
  },
  {
   "attachments": {},
   "cell_type": "markdown",
   "metadata": {},
   "source": [
    "### COLORES DE LAS LÍNEAS DEL GRÁFICO (SIN REPRESENTACIÓN DE LA MEDIA)\n",
    "```python\n",
    "colors = [[230/255,159/255,0], [86/255,180/255,233/255], [0,158/255,115/255], [213/255,94/255,0], [0,114/255,178/255], \n",
    "          [240/255,228/255,66/255], [180/255,130/255,70/255], [255/255,80/255,5/255], [110/255,190/255,60/255], \n",
    "            [200/255,100/255,200/255], [128/255,128/255,128/255], [0,255/255,128/255], [255/255,0,128/255], \n",
    "          [128/255,0,255/255], [255/255,128/255,0], [0,128/255,255/255], [128/255,255/255,0], [0,200/255,255/255]]\n",
    "```"
   ]
  },
  {
   "attachments": {},
   "cell_type": "markdown",
   "metadata": {},
   "source": [
    "# PLANTILLA DE GRÁFICO DE LINEAS USADO\n",
    "\n",
    "ESTE CÓDIGO HA SIDO EL USADO PARA TODOS LOS GRÁFICOS DE LÍNEAS DEL TRABAJO PARA UNIFICAR FORMATO\n",
    "\n",
    "```python\n",
    "# Selecciona los datos de los países\n",
    "data_countries = data.loc[data.index.isin(countries)]\n",
    "\n",
    "# Utiliza el estilo de gráfico 'fivethirtyeight'\n",
    "style.use('fivethirtyeight')\n",
    "\n",
    "# Crea una figura con tamaño 12x8 pulgadas\n",
    "plt.figure(figsize=(12,8))\n",
    "\n",
    "# Itera sobre los países y colores correspondientes\n",
    "for country, color in zip(countries, colors):\n",
    "    # Añade una línea al gráfico para el país correspondiente, con etiqueta, ancho de línea y color\n",
    "    plt.plot(data.loc[country][:], label=country, linewidth=2.5, color=color)\n",
    "\n",
    "# Añade etiquetas al eje x y eje y\n",
    "plt.xlabel('LABEL X AXIS')\n",
    "plt.xticks(rotation=-45)\n",
    "plt.ylabel('LABEL Y AXIS')\n",
    "\n",
    "# Añade un título al gráfico\n",
    "plt.title('TITLE')\n",
    "\n",
    "# Añade una leyenda en la esquina superior izquierda del gráfico, fuera del área del gráfico principal\n",
    "plt.legend(loc='upper left', bbox_to_anchor=(1.02, 1))\n",
    "\n",
    "# Establece el formato de los números del eje y a notación decimal\n",
    "plt.ticklabel_format(style='plain', axis='y')\n",
    "\n",
    "# Establece los límites del eje y, varía dependiendo de cada gráfico\n",
    "plt.ylim(bottom=750000,top=1350000)\n",
    "\n",
    "# Dibuja una línea horizontal en la posición del eje y=0, para ayudar a visualizar la diferencia entre valores positivos y negativos\n",
    "plt.axhline(y = 0, color = 'black', linewidth = 1.4, alpha = .7)\n",
    "\n",
    "# Muestra el gráfico\n",
    "plt.show()\n",
    "```"
   ]
  },
  {
   "attachments": {},
   "cell_type": "markdown",
   "metadata": {},
   "source": [
    "EN AQUELLOS CASOS EN LOS QUE LOS VALORES REPRESENTADOS SON VALORES ABSOLUTOS GRANDES, AL CÓDIGO DEL GRÁFICO SE LE AÑADEN LAS SIGUIENTES LÍNEAS DE CÓDIGO PARA QUE LA LEYENDA DEL EJE Y SE REPRESENTE CON PUNTOS QUE INDIQUEN LOS MILES.\n",
    "\n",
    "```python\n",
    "import matplotlib.ticker as ticker\n",
    "\n",
    "# Crea un objeto FuncFormatter que formatea los números del eje y como cadena de caracteres con separadores de miles y punto decimal\n",
    "formatter = ticker.FuncFormatter(lambda x, pos: '{:,.0f}'.format(x).replace(',', '.'))\n",
    "\n",
    "# Establece el objeto formatter como el formateador de números para el eje y del gráfico actual (gca() devuelve los ejes actuales)\n",
    "plt.gca().yaxis.set_major_formatter(formatter)\n",
    "```\n",
    "\n"
   ]
  },
  {
   "attachments": {},
   "cell_type": "markdown",
   "metadata": {},
   "source": [
    "## PLANTILLA GRÁFICO ESTILO DONUT USADO\n",
    "```python\n",
    "\n",
    "fig, ax = plt.subplots(figsize=(10, 6))\n",
    "ax.pie(datos_espana, radius=1, labels=categorias,autopct='%1.01f%%', pctdistance=0.8)\n",
    "\n",
    "plt.title('TITLE', fontsize=14)\n",
    "\n",
    "circulo_central = plt.Circle((0,0), 0.5, color='white')\n",
    "fig.gca().add_artist(circulo_central)\n",
    "\n",
    "plt.show()\n",
    "\n",
    "\n",
    "```"
   ]
  }
 ],
 "metadata": {
  "language_info": {
   "name": "python"
  },
  "orig_nbformat": 4
 },
 "nbformat": 4,
 "nbformat_minor": 2
}
